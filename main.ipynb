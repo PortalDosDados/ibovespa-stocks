{
 "cells": [
  {
   "cell_type": "code",
   "execution_count": null,
   "id": "04c94919",
   "metadata": {},
   "outputs": [],
   "source": [
    "# Importando as bibliotecas necessárias\n",
    "import pandas as pd\n",
    "from db import connection"
   ]
  },
  {
   "cell_type": "code",
   "execution_count": null,
   "id": "842a1e3a",
   "metadata": {},
   "outputs": [],
   "source": [
    "# Criando a conexão com o banco de dados e um cursor\n",
    "conn = connection()  # Chama a função\n",
    "\n",
    "if conn is not None:\n",
    "    cursor = conn.cursor()\n",
    "    cursor.close()\n",
    "    conn.close()\n",
    "else:\n",
    "    print(\"Não foi possível conectar ao banco.\")"
   ]
  },
  {
   "cell_type": "code",
   "execution_count": 8,
   "id": "fb57229b",
   "metadata": {},
   "outputs": [],
   "source": [
    "# Criando d dataframe a partir do arquivo CSV\n",
    "df = pd.read_csv('b3_stocks_1994_2020.csv')"
   ]
  },
  {
   "cell_type": "code",
   "execution_count": null,
   "id": "308c0377",
   "metadata": {},
   "outputs": [],
   "source": [
    "# printando as primeiras linhas do dataframe\n",
    "print(df.head())"
   ]
  },
  {
   "cell_type": "code",
   "execution_count": null,
   "id": "2f126c83",
   "metadata": {},
   "outputs": [],
   "source": [
    "# Exibendo o número de linhas e colunas do dataframe\n",
    "print(f\"linhas: {df.shape[0]}\\ncolunas: {df.shape[1]}\")"
   ]
  },
  {
   "cell_type": "code",
   "execution_count": null,
   "id": "dec32656",
   "metadata": {},
   "outputs": [],
   "source": [
    "print(df.describe())"
   ]
  }
 ],
 "metadata": {
  "kernelspec": {
   "display_name": "Python 3",
   "language": "python",
   "name": "python3"
  },
  "language_info": {
   "codemirror_mode": {
    "name": "ipython",
    "version": 3
   },
   "file_extension": ".py",
   "mimetype": "text/x-python",
   "name": "python",
   "nbconvert_exporter": "python",
   "pygments_lexer": "ipython3",
   "version": "3.11.13"
  }
 },
 "nbformat": 4,
 "nbformat_minor": 5
}
