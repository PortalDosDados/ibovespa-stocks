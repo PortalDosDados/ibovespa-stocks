{
 "cells": [
  {
   "cell_type": "code",
   "execution_count": null,
   "id": "04c94919",
   "metadata": {},
   "outputs": [],
   "source": [
    "# Importando as bibliotecas necessárias\n",
    "import pandas as pd\n",
    "from db import connection"
   ]
  },
  {
   "cell_type": "code",
   "execution_count": null,
   "id": "842a1e3a",
   "metadata": {},
   "outputs": [],
   "source": [
    "# Criando a conexão com o banco de dados e um cursor\n",
    "conn = connection()  # Chama a função\n",
    "\n",
    "if conn is not None:\n",
    "    cursor = conn.cursor()\n",
    "    cursor.close()\n",
    "    conn.close()\n",
    "else:\n",
    "    print(\"Não foi possível conectar ao banco.\")"
   ]
  },
  {
   "cell_type": "code",
   "execution_count": 11,
   "id": "fb57229b",
   "metadata": {},
   "outputs": [],
   "source": [
    "# Criando d dataframe a partir do arquivo CSV\n",
    "df = pd.read_csv('b3_stocks_1994_2020.csv')"
   ]
  },
  {
   "cell_type": "code",
   "execution_count": 12,
   "id": "308c0377",
   "metadata": {},
   "outputs": [
    {
     "name": "stdout",
     "output_type": "stream",
     "text": [
      "     datetime ticker    open   close    high     low    volume\n",
      "0  1994-07-04  ACE 3   48.00   48.00   48.00   47.00   46550.0\n",
      "1  1994-07-04  ALP 3  155.27  156.00  156.00  155.27  163405.8\n",
      "2  1994-07-04  ALP 4  131.00  131.00  131.00  131.00    6550.0\n",
      "3  1994-07-04  IBP 6  600.00  600.00  600.00  600.00    7800.0\n",
      "4  1994-07-04  AQT 4    0.89    0.99    0.99    0.85   13137.0\n"
     ]
    }
   ],
   "source": [
    "# printando as primeiras linhas do dataframe\n",
    "print(df.head())"
   ]
  },
  {
   "cell_type": "code",
   "execution_count": null,
   "id": "2f126c83",
   "metadata": {},
   "outputs": [],
   "source": [
    "# Exibendo o número de linhas e colunas do dataframe\n",
    "print(f\"linhas: {df.shape[0]}\\ncolunas: {df.shape[1]}\")"
   ]
  },
  {
   "cell_type": "code",
   "execution_count": 13,
   "id": "d0459825",
   "metadata": {},
   "outputs": [
    {
     "name": "stdout",
     "output_type": "stream",
     "text": [
      "Colunas: ['datetime', 'ticker', 'open', 'close', 'high', 'low', 'volume']\n"
     ]
    }
   ],
   "source": [
    "# Exibindo os nomes das colunas do dataframe\n",
    "print(f\"Colunas: {df.columns.tolist()}\")"
   ]
  },
  {
   "cell_type": "code",
   "execution_count": null,
   "id": "dec32656",
   "metadata": {},
   "outputs": [],
   "source": [
    "print(df.describe())"
   ]
  },
  {
   "cell_type": "code",
   "execution_count": null,
   "id": "316c0633",
   "metadata": {},
   "outputs": [
    {
     "name": "stdout",
     "output_type": "stream",
     "text": [
      "25.609224489795913\n"
     ]
    }
   ],
   "source": [
    "# Exibe a média do preço de fechamento da ação BBAS3\n",
    "print(df.loc[df['ticker']=='BBAS3','close'].mean())"
   ]
  }
 ],
 "metadata": {
  "kernelspec": {
   "display_name": "Python 3",
   "language": "python",
   "name": "python3"
  },
  "language_info": {
   "codemirror_mode": {
    "name": "ipython",
    "version": 3
   },
   "file_extension": ".py",
   "mimetype": "text/x-python",
   "name": "python",
   "nbconvert_exporter": "python",
   "pygments_lexer": "ipython3",
   "version": "3.11.13"
  }
 },
 "nbformat": 4,
 "nbformat_minor": 5
}
