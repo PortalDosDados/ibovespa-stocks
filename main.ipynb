{
 "cells": [
  {
   "cell_type": "code",
   "execution_count": null,
   "id": "04c94919",
   "metadata": {},
   "outputs": [],
   "source": [
    "# Importando as bibliotecas necessárias\n",
    "import pandas as pd\n",
    "from db import connection"
   ]
  },
  {
   "cell_type": "code",
   "execution_count": 3,
   "id": "842a1e3a",
   "metadata": {},
   "outputs": [
    {
     "name": "stdout",
     "output_type": "stream",
     "text": [
      "Conexão estabelecida com sucesso.\n"
     ]
    }
   ],
   "source": [
    "# Criando a conexão com o banco de dados e um cursor\n",
    "conn = connection()  # Chama a função\n",
    "\n",
    "if conn is not None:\n",
    "    cursor = conn.cursor()\n",
    "    cursor.close()\n",
    "    conn.close()\n",
    "else:\n",
    "    print(\"Não foi possível conectar ao banco.\")"
   ]
  },
  {
   "cell_type": "code",
   "execution_count": 4,
   "id": "fb57229b",
   "metadata": {},
   "outputs": [],
   "source": [
    "# Criando d dataframe a partir do arquivo CSV\n",
    "df = pd.read_csv('b3_stocks_1994_2020.csv')"
   ]
  },
  {
   "cell_type": "code",
   "execution_count": 5,
   "id": "308c0377",
   "metadata": {},
   "outputs": [
    {
     "name": "stdout",
     "output_type": "stream",
     "text": [
      "     datetime ticker    open   close    high     low    volume\n",
      "0  1994-07-04  ACE 3   48.00   48.00   48.00   47.00   46550.0\n",
      "1  1994-07-04  ALP 3  155.27  156.00  156.00  155.27  163405.8\n",
      "2  1994-07-04  ALP 4  131.00  131.00  131.00  131.00    6550.0\n",
      "3  1994-07-04  IBP 6  600.00  600.00  600.00  600.00    7800.0\n",
      "4  1994-07-04  AQT 4    0.89    0.99    0.99    0.85   13137.0\n"
     ]
    }
   ],
   "source": [
    "# printando as primeiras linhas do dataframe\n",
    "print(df.head())"
   ]
  },
  {
   "cell_type": "code",
   "execution_count": 6,
   "id": "2f126c83",
   "metadata": {},
   "outputs": [
    {
     "name": "stdout",
     "output_type": "stream",
     "text": [
      "linhas: 1883203\n",
      "colunas: 7\n"
     ]
    }
   ],
   "source": [
    "# Exibendo o número de linhas e colunas do dataframe\n",
    "print(f\"linhas: {df.shape[0]}\\ncolunas: {df.shape[1]}\")"
   ]
  },
  {
   "cell_type": "code",
   "execution_count": 7,
   "id": "dec32656",
   "metadata": {},
   "outputs": [
    {
     "name": "stdout",
     "output_type": "stream",
     "text": [
      "               open         close          high           low        volume\n",
      "count  1.883203e+06  1.883203e+06  1.883203e+06  1.883203e+06  1.883203e+06\n",
      "mean   6.814208e+01  6.827674e+01  6.882414e+01  6.754027e+01  1.668286e+07\n",
      "std    1.689781e+03  1.695070e+03  1.699966e+03  1.683604e+03  1.026344e+08\n",
      "min    1.000000e-02  0.000000e+00  1.000000e-02  1.000000e-02  0.000000e+00\n",
      "25%    3.960000e+00  3.960000e+00  4.000000e+00  3.890000e+00  1.800500e+04\n",
      "50%    1.369000e+01  1.370000e+01  1.392000e+01  1.345000e+01  2.526560e+05\n",
      "75%    3.670000e+01  3.673000e+01  3.714000e+01  3.608000e+01  4.794014e+06\n",
      "max    1.297776e+06  1.297776e+06  1.297776e+06  1.297776e+06  4.298380e+10\n"
     ]
    }
   ],
   "source": [
    "print(df.describe())"
   ]
  }
 ],
 "metadata": {
  "kernelspec": {
   "display_name": "Python 3",
   "language": "python",
   "name": "python3"
  },
  "language_info": {
   "codemirror_mode": {
    "name": "ipython",
    "version": 3
   },
   "file_extension": ".py",
   "mimetype": "text/x-python",
   "name": "python",
   "nbconvert_exporter": "python",
   "pygments_lexer": "ipython3",
   "version": "3.11.13"
  }
 },
 "nbformat": 4,
 "nbformat_minor": 5
}
