{
 "cells": [
  {
   "cell_type": "code",
   "execution_count": null,
   "id": "04c94919",
   "metadata": {},
   "outputs": [],
   "source": [
    "# Importando as bibliotecas necessárias\n",
    "from db import connection"
   ]
  },
  {
   "cell_type": "code",
   "execution_count": 20,
   "id": "842a1e3a",
   "metadata": {},
   "outputs": [
    {
     "name": "stdout",
     "output_type": "stream",
     "text": [
      "Conexão estabelecida com sucesso.\n"
     ]
    }
   ],
   "source": [
    "# Criando a conexão com o banco de dados e um cursor\n",
    "conn = connection()  # Chama a função\n",
    "\n",
    "if conn is not None:\n",
    "    cursor = conn.cursor()\n",
    "else:\n",
    "    print(\"Não foi possível conectar ao banco.\")\n"
   ]
  },
  {
   "cell_type": "code",
   "execution_count": 22,
   "id": "2ab6f07c",
   "metadata": {},
   "outputs": [],
   "source": [
    "# Criando o schema 'financeiro' se não existir\n",
    "cursor.execute('CREATE SCHEMA IF NOT EXISTS financeiro') \n",
    "if conn is not None:\n",
    "    conn.commit()\n",
    "else:\n",
    "    print(\"Não foi possível criar o schema financeiro.\")"
   ]
  },
  {
   "cell_type": "code",
   "execution_count": null,
   "id": "36e997ca",
   "metadata": {},
   "outputs": [],
   "source": [
    "cursor.execute('')"
   ]
  }
 ],
 "metadata": {
  "kernelspec": {
   "display_name": "Python 3",
   "language": "python",
   "name": "python3"
  },
  "language_info": {
   "codemirror_mode": {
    "name": "ipython",
    "version": 3
   },
   "file_extension": ".py",
   "mimetype": "text/x-python",
   "name": "python",
   "nbconvert_exporter": "python",
   "pygments_lexer": "ipython3",
   "version": "3.11.13"
  }
 },
 "nbformat": 4,
 "nbformat_minor": 5
}
