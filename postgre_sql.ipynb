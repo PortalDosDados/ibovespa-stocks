{
 "cells": [
  {
   "cell_type": "code",
   "execution_count": 8,
   "id": "04c94919",
   "metadata": {},
   "outputs": [],
   "source": [
    "# Importando as bibliotecas necessárias\n",
    "import pandas as pd\n",
    "import psycopg2\n",
    "from db import connection, close_connection"
   ]
  },
  {
   "cell_type": "code",
   "execution_count": null,
   "id": "842a1e3a",
   "metadata": {},
   "outputs": [
    {
     "name": "stdout",
     "output_type": "stream",
     "text": [
      "Conexão estabelecida com sucesso.\n"
     ]
    }
   ],
   "source": [
    "# Criando a conexão com o banco de dados e um cursor\n",
    "conn = connection()\n",
    "cursor = conn.cursor()  # type: ignore"
   ]
  },
  {
   "cell_type": "code",
   "execution_count": null,
   "id": "9b67082f",
   "metadata": {},
   "outputs": [],
   "source": [
    "# Criando o schema 'financeiro' se não existir\n",
    "cursor.execute('CREATE SCHEMA IF NOT EXISTS financeiro')\n",
    "conn.commit() # type: ignore"
   ]
  }
 ],
 "metadata": {
  "kernelspec": {
   "display_name": "Python 3",
   "language": "python",
   "name": "python3"
  },
  "language_info": {
   "codemirror_mode": {
    "name": "ipython",
    "version": 3
   },
   "file_extension": ".py",
   "mimetype": "text/x-python",
   "name": "python",
   "nbconvert_exporter": "python",
   "pygments_lexer": "ipython3",
   "version": "3.11.13"
  }
 },
 "nbformat": 4,
 "nbformat_minor": 5
}
